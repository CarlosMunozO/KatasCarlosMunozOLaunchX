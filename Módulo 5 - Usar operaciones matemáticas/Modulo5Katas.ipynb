{
 "cells": [
  {
   "cell_type": "markdown",
   "metadata": {},
   "source": [
    "## Ejercicio 1\n",
    "\n",
    "Utilizar operadores aritméticos"
   ]
  },
  {
   "cell_type": "code",
   "execution_count": 4,
   "metadata": {},
   "outputs": [
    {
     "name": "stdout",
     "output_type": "stream",
     "text": [
      "Distance in kilometers: 628949330.0\n",
      "Distance in miles: 390577533.93\n"
     ]
    }
   ],
   "source": [
    "# Crear variables para almacenar las dos distancias\n",
    "# ¡Asegúrate de quitar las comas!\n",
    "earth_distance = float(input(\"Enter the distace of the earth: \"))\n",
    "jupiter_distance = float(input(\"Enter the distace of jupiter: \"))\n",
    "\n",
    "# Calcular la distancia entre planetas\n",
    "distance_in_km = jupiter_distance-earth_distance\n",
    "distance_in_miles = distance_in_km*0.621\n",
    "\n",
    "print(f\"\"\"Distance in kilometers: {distance_in_km}\n",
    "Distance in miles: {distance_in_miles}\"\"\")\n",
    "\n",
    "\n",
    "\n"
   ]
  },
  {
   "cell_type": "markdown",
   "metadata": {},
   "source": [
    "## Ejercicio 2\n",
    "\n",
    "Convierte cadenas en números y usa valores absolutos"
   ]
  },
  {
   "cell_type": "code",
   "execution_count": 6,
   "metadata": {},
   "outputs": [
    {
     "name": "stdout",
     "output_type": "stream",
     "text": [
      "Distance in kilometers: 670400000\n",
      "Distance in miles: 416318400.0\n"
     ]
    }
   ],
   "source": [
    "# Almacenar las entradas del usuario\n",
    "#Pista: variable = input(\"¿Cuál es tu nombre?\")\n",
    "# Convierte las cadenas de ambos planetas a números enteros\n",
    "first_planet = int(input(\"Enter the distance of the first planet to the sun: \"))\n",
    "second_planet = int(input(\"Enter the distance of the second planet to the sun: \"))\n",
    "\n",
    "# Realizar el cálculo y determinar el valor absoluto\n",
    "distance_in_km = abs(second_planet - first_planet)\n",
    "\n",
    "# Convertir de KM a Millas\n",
    "distance_in_miles = abs(distance_in_km*0.621)\n",
    "\n",
    "print(f\"\"\"Distance in kilometers: {distance_in_km}\n",
    "Distance in miles: {distance_in_miles}\"\"\")\n"
   ]
  }
 ],
 "metadata": {
  "interpreter": {
   "hash": "7882eb7ff61d711c74f29d090aea08fc1df71fe9f9cfb36e798d61dc490d4ede"
  },
  "kernelspec": {
   "display_name": "Python 3.10.2 64-bit",
   "language": "python",
   "name": "python3"
  },
  "language_info": {
   "codemirror_mode": {
    "name": "ipython",
    "version": 3
   },
   "file_extension": ".py",
   "mimetype": "text/x-python",
   "name": "python",
   "nbconvert_exporter": "python",
   "pygments_lexer": "ipython3",
   "version": "3.10.2"
  },
  "orig_nbformat": 4
 },
 "nbformat": 4,
 "nbformat_minor": 2
}
