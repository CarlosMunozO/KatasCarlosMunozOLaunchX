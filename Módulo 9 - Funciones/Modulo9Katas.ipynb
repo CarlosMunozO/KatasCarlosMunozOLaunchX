{
 "cells": [
  {
   "cell_type": "markdown",
   "metadata": {},
   "source": [
    "## Ejercicio 1\n",
    "\n",
    "Uso de funciones en Python"
   ]
  },
  {
   "cell_type": "code",
   "execution_count": 4,
   "metadata": {},
   "outputs": [
    {
     "name": "stdout",
     "output_type": "stream",
     "text": [
      "    Fuel in tank 1: 100\n",
      "    Fuel in tank 2: 200\n",
      "    Fuel in tank 3: 300\n",
      "    Fuel average: 200.0\n",
      "    Fuel in tank 1: 100\n",
      "    Fuel in tank 2: 200\n",
      "    Fuel in tank 3: 300\n",
      "    Fuel average: 200.0\n"
     ]
    }
   ],
   "source": [
    "# Función para leer 3 tanques de combustible y muestre el promedio\n",
    "def fuel_tanks(fuelTank1, fuelTank2, fuelTank3):\n",
    "    average = (fuelTank1 + fuelTank2 + fuelTank3) / 3\n",
    "    return f\"\"\"    Fuel in tank 1: {fuelTank1}\n",
    "    Fuel in tank 2: {fuelTank2}\n",
    "    Fuel in tank 3: {fuelTank3}\n",
    "    Fuel average: {average}\"\"\"\n",
    "\n",
    "# Llamamos a la función que genera el reporte print(funcion(tanque1, tanque2, tanque3))\n",
    "print(fuel_tanks(100,200,300))\n",
    "\n",
    "# Función promedio \n",
    "def average(data1, data2, data3):\n",
    "    return (data1 + data2 + data3) / 3\n",
    "\n",
    "# Actualiza la función\n",
    "def fuel_tanks(fuelTank1, fuelTank2, fuelTank3):\n",
    "    return f\"\"\"    Fuel in tank 1: {fuelTank1}\n",
    "    Fuel in tank 2: {fuelTank2}\n",
    "    Fuel in tank 3: {fuelTank3}\n",
    "    Fuel average: {average(fuelTank1, fuelTank2, fuelTank3)}\"\"\"\n",
    "\n",
    "# Llamamos a la función que genera el reporte print(funcion(tanque1, tanque2, tanque3))\n",
    "print(fuel_tanks(100,200,300))\n",
    "\n",
    "\n"
   ]
  },
  {
   "cell_type": "markdown",
   "metadata": {},
   "source": [
    "## Ejercicio 2\n",
    "\n",
    "Trabajo con argumentos de palabra clave"
   ]
  },
  {
   "cell_type": "code",
   "execution_count": 12,
   "metadata": {},
   "outputs": [
    {
     "name": "stdout",
     "output_type": "stream",
     "text": [
      "    Destination: Moon\n",
      "    Prelaunch hour: 14\n",
      "    Flying time: 51\n",
      "    Fuel in external tank: 200000\n",
      "    Fuel in internal tank: 300000\n",
      "   Destination: Moon\n",
      "    Total travel's time: 76\n",
      "    Total fuel: 500000\n",
      "   Destination: Moon\n",
      "    Total travel's time: 76\n",
      "    Total fuel: main tank: 300000 gallons \n",
      "external tank: 200000 gallons \n",
      "\n"
     ]
    }
   ],
   "source": [
    "# Función con un informe preciso de la misión. Considera hora de prelanzamiento, tiempo de vuelo, \n",
    "# destino, tanque externo y tanque interno\n",
    "def mission_inform(prelaunch_hour, flying_time, destination, external_tank, internal_tank):\n",
    "    return f\"\"\"    Destination: {destination}\n",
    "    Prelaunch hour: {prelaunch_hour}\n",
    "    Flying time: {flying_time}\n",
    "    Fuel in external tank: {external_tank}\n",
    "    Fuel in internal tank: {internal_tank}\"\"\"\n",
    "\n",
    "print(mission_inform(14, 51, \"Moon\", 200000, 300000))\n",
    "\n",
    "# Escribe tu nueva función de reporte considerando lo anterior\n",
    "def mission_inform(destination, *minutes, **fuel_reservoirs):\n",
    "    return f\"\"\"   Destination: {destination}\n",
    "    Total travel's time: {sum(minutes)}\n",
    "    Total fuel: {sum(fuel_reservoirs.values())}\"\"\"\n",
    "\n",
    "print(mission_inform(\"Moon\", 10, 15, 51, main=300000, external=200000))\n",
    "\n",
    "# Escribe tu nueva función\n",
    "def mission_inform(destination, *minutes, **fuel_reservoirs):\n",
    "    return f\"\"\"   Destination: {destination}\n",
    "    Total travel's time: {sum(minutes)}\n",
    "    Total fuel: {obtain_fuel_tanks_info(fuel_reservoirs)}\"\"\"\n",
    "\n",
    "def obtain_fuel_tanks_info(fuel_reservoirs):\n",
    "    fuel_report = \"\"\n",
    "    for fuel_tank,gallons in fuel_reservoirs.items():\n",
    "        fuel_report += f\"{fuel_tank} tank: {gallons} gallons \\n\"\n",
    "    return fuel_report\n",
    "\n",
    "print(mission_inform(\"Moon\", 10, 15, 51, main=300000, external=200000))"
   ]
  }
 ],
 "metadata": {
  "interpreter": {
   "hash": "7882eb7ff61d711c74f29d090aea08fc1df71fe9f9cfb36e798d61dc490d4ede"
  },
  "kernelspec": {
   "display_name": "Python 3.10.2 64-bit",
   "language": "python",
   "name": "python3"
  },
  "language_info": {
   "codemirror_mode": {
    "name": "ipython",
    "version": 3
   },
   "file_extension": ".py",
   "mimetype": "text/x-python",
   "name": "python",
   "nbconvert_exporter": "python",
   "pygments_lexer": "ipython3",
   "version": "3.10.2"
  },
  "orig_nbformat": 4
 },
 "nbformat": 4,
 "nbformat_minor": 2
}
