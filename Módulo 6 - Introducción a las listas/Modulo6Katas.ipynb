{
 "cells": [
  {
   "cell_type": "markdown",
   "metadata": {},
   "source": [
    "## Ejercicio 1\n",
    "\n",
    "Crear y usar listas de Python"
   ]
  },
  {
   "cell_type": "code",
   "execution_count": 7,
   "metadata": {},
   "outputs": [
    {
     "name": "stdout",
     "output_type": "stream",
     "text": [
      "['Mercury', 'Venus', 'Earth', 'Mars', 'Jupiter', 'Saturn', 'Uranus', 'Neptune']\n",
      "Number of planets: 9\n",
      "Last planet in list: Pluto\n"
     ]
    }
   ],
   "source": [
    "# Creamos la lista planets y la mostramos\n",
    "planets = [\"Mercury\", \"Venus\", \"Earth\", \"Mars\", \"Jupiter\", \"Saturn\", \"Uranus\", \"Neptune\"]\n",
    "print(planets)\n",
    "\n",
    "# Agregamos a plutón y mostramos el último elemento\n",
    "planets.append(\"Pluto\")\n",
    "print(\"Number of planets: \" + str(len(planets)))\n",
    "print(\"Last planet in list: \" + planets[-1])\n",
    "\n",
    "\n"
   ]
  },
  {
   "cell_type": "markdown",
   "metadata": {},
   "source": [
    "## Ejercicio 2\n",
    "\n",
    "Trabajando con datos de una lista"
   ]
  },
  {
   "cell_type": "code",
   "execution_count": 12,
   "metadata": {},
   "outputs": [
    {
     "name": "stdout",
     "output_type": "stream",
     "text": [
      "Planets closer to the sun than Venus are: ['Mercury']\n",
      "Planets further to the sun than Venus are: ['Earth', 'Mars', 'Jupiter', 'Saturn', 'Neptune']\n"
     ]
    }
   ],
   "source": [
    "# Lista de planetas\n",
    "planets = ['Mercury', 'Venus', 'Earth', 'Mars', 'Jupiter', 'Saturn', 'Neptune']\n",
    "\n",
    "# Solicitamos el nombre de un planeta *Pista:  input()*\n",
    "planet = str(input(\"Please insert the name of one planet: \"))\n",
    "\n",
    "# Busca el planeta en la lista\n",
    "planet_index = planets.index(planet)\n",
    "\n",
    "# Muestra los planetas más cercanos al sol\n",
    "print(f\"Planets closer to the sun than {planet} are: \" + str(planets[0:planet_index]))\n",
    "\n",
    "# Muestra los planetas más lejanos al sol\n",
    "print(f\"Planets further to the sun than {planet} are: \" + str(planets[planet_index+1:]))\n"
   ]
  }
 ],
 "metadata": {
  "interpreter": {
   "hash": "7882eb7ff61d711c74f29d090aea08fc1df71fe9f9cfb36e798d61dc490d4ede"
  },
  "kernelspec": {
   "display_name": "Python 3.10.2 64-bit",
   "language": "python",
   "name": "python3"
  },
  "language_info": {
   "codemirror_mode": {
    "name": "ipython",
    "version": 3
   },
   "file_extension": ".py",
   "mimetype": "text/x-python",
   "name": "python",
   "nbconvert_exporter": "python",
   "pygments_lexer": "ipython3",
   "version": "3.10.2"
  },
  "orig_nbformat": 4
 },
 "nbformat": 4,
 "nbformat_minor": 2
}
